{
 "cells": [
  {
   "cell_type": "code",
   "execution_count": 1,
   "id": "e5684791",
   "metadata": {},
   "outputs": [],
   "source": [
    "import numpy as np\n",
    "import scipy as sp\n",
    "import matplotlib.pyplot as plt\n",
    "import seaborn as sns\n",
    "import pickle\n",
    "import os\n",
    "import time\n",
    "from numba import njit\n",
    "np.set_printoptions(suppress = True)\n",
    "from Minimization import minimization\n",
    "obs_series = np.genfromtxt('obs_series.csv', delimiter=',')"
   ]
  },
  {
   "cell_type": "code",
   "execution_count": 3,
   "id": "fc69f7aa",
   "metadata": {},
   "outputs": [],
   "source": [
    "def init_kf(θ):\n",
    "    \n",
    "    λ, η, b11, b21, As11, As12, As13, As14, As21, As22, As23, As24, As31, As32, As33, As34, Bs11, Bs21, Bs22, Bs31, Bs32, Bs33 = θ\n",
    "    ones = np.ones([3,1])\n",
    "    \n",
    "    Ass = np.array([[As11, As12, As13],\\\n",
    "                    [As21, As22, As23],\\\n",
    "                    [As31, As32, As33]])\n",
    "    Aso = np.array([[As14],\\\n",
    "                    [As24],\\\n",
    "                    [As34]])\n",
    "    Bs =  np.array([[Bs11, 0,    0],\\\n",
    "                    [Bs21, Bs22, 0],\\\n",
    "                    [Bs31, Bs32, Bs33]])\n",
    "    \n",
    "    μs = sp.linalg.solve(np.eye(3) - Ass, Aso) \n",
    "    Σs = sp.linalg.solve_discrete_lyapunov(Ass, Bs@Bs.T)\n",
    "    \n",
    "    β = sp.linalg.solve(np.hstack([Σs@np.array([[1,1],[0,-1],[-1,0]]), ones]).T, np.array([[0,0,1]]).T)                                     \n",
    "    γ1 = np.array([[1],[0],[0]]) - sp.linalg.inv(Σs)@ones/(ones.T@sp.linalg.inv(Σs)@ones)\n",
    "    γ2 = np.array([[0],[1],[0]]) - sp.linalg.inv(Σs)@ones/(ones.T@sp.linalg.inv(Σs)@ones)\n",
    "    γ3 = np.array([[0],[0],[1]]) - sp.linalg.inv(Σs)@ones/(ones.T@sp.linalg.inv(Σs)@ones)\n",
    "    Γ = np.hstack([γ1, γ2, γ3])\n",
    "    \n",
    "    Z01 = β.T@(obs_series[:,[0]] - μs)\n",
    "    Σz01 = 0\n",
    "    Z02 = η/(1-λ)\n",
    "    Σz02 = b21**2/(1-λ**2)\n",
    "    S0 = Γ.T@(obs_series[:,[0]] - μs) + μs\n",
    "    Σs0 = (1/(ones.T@np.linalg.inv(Σs)@ones))[0][0]\n",
    "    \n",
    "    μ0 = np.array([[Z01[0][0]],\\\n",
    "                   [Z02],\\\n",
    "                   [S0[0][0]],\\\n",
    "                   [S0[1][0]],\\\n",
    "                   [S0[2][0]],\\\n",
    "                   [1]])\n",
    "    Σ0 = np.array([[Σz01,0,    0,   0,   0,   0],\\\n",
    "                   [0,   Σz02, 0,   0,   0,   0],\\\n",
    "                   [0,   0,    Σs0, Σs0, Σs0, 0],\\\n",
    "                   [0,   0,    Σs0, Σs0, Σs0, 0],\\\n",
    "                   [0,   0,    Σs0, Σs0, Σs0, 0],\\\n",
    "                   [0,   0,    0,   0,   0,   0]])    \n",
    "    return μ0, Σ0, Ass, Σs"
   ]
  },
  {
   "cell_type": "code",
   "execution_count": 4,
   "id": "2267f757",
   "metadata": {},
   "outputs": [
    {
     "name": "stdout",
     "output_type": "stream",
     "text": [
      "CPU times: user 822 ms, sys: 3.65 ms, total: 825 ms\n",
      "Wall time: 824 ms\n"
     ]
    }
   ],
   "source": [
    "%%time\n",
    "np.random.seed((os.getpid() * int(time.time())) % 123456789)\n",
    "stable = False\n",
    "n_trials = 0\n",
    "while stable == False:\n",
    "    start = np.concatenate((np.random.uniform(0,1,1), np.random.uniform(-10,10,3), np.random.uniform(-5,5,18)))\n",
    "    try:\n",
    "        μ0, Σ0, Ass, Σs = init_kf(start)\n",
    "        n_trials +=1\n",
    "        if (np.all(np.linalg.eigvals(Σ0)>=0)) & (np.all(abs(np.linalg.eigvals(Ass))<1) & (np.all(np.linalg.eigvals(Σs)>=0))):\n",
    "            stable = True\n",
    "        else:\n",
    "            stable = False\n",
    "    except: \n",
    "        n_trials +=1\n",
    "        stable = False  "
   ]
  },
  {
   "cell_type": "code",
   "execution_count": 5,
   "id": "11d6a518",
   "metadata": {},
   "outputs": [],
   "source": [
    "def Kalman_Filter(obs, D, F, A, B, μ0, Σ0):\n",
    "\n",
    "    state_μ = np.zeros([A.shape[1], obs.shape[1]])\n",
    "    state_μ[:,[0]] = μ0\n",
    "    state_Σ = np.zeros([A.shape[1], A.shape[1], obs.shape[1]])\n",
    "    state_Σ[:,:,0] = Σ0\n",
    "\n",
    "    ll = 0\n",
    "\n",
    "    for t in range(obs.shape[1]-1):\n",
    "        μt = state_μ[:,[t]]\n",
    "        Σt = state_Σ[:,:,t]\n",
    "        KΣt = (A@Σt@D.T + B@F.T)@np.linalg.inv(D@Σt@D.T+F@F.T)\n",
    "        state_μ[:,[t+1]] = A@μt + KΣt@(obs[:,[t+1]] - D@μt)\n",
    "        state_Σ[:,:,t+1] = A@Σt@A.T + B@B.T - (A@Σt@D.T + B@F.T)@np.linalg.inv(D@Σt@D.T + F@F.T)@(D@Σt@A.T+F@B.T)\n",
    "\n",
    "        Ω = D@Σt@D.T + F@F.T\n",
    "        ll += (-0.5*obs_series.shape[0]*np.log(2*np.pi) - 0.5*np.log(np.linalg.det(Ω)) - 0.5*(obs[:,[t+1]] - D@μt).T@np.linalg.inv(Ω)@(obs[:,[t+1]] - D@μt))\n",
    "\n",
    "    return state_μ, state_Σ ,ll"
   ]
  },
  {
   "cell_type": "code",
   "execution_count": 6,
   "id": "ea3647a4",
   "metadata": {},
   "outputs": [],
   "source": [
    "def ll(θ):\n",
    "\n",
    "    λ, η, b11, b21, As11, As12, As13, As14, As21, As22, As23, As24, As31, As32, As33, As34, Bs11, Bs21, Bs22, Bs31, Bs32, Bs33 = θ\n",
    "\n",
    "    A = np.array([[1,   1,   0,     0,     0,     0],\\\n",
    "                  [0,   λ,   0,     0,     0,     η],\\\n",
    "                  [0,   0,   As11,  As12,  As13,  As14],\\\n",
    "                  [0,   0,   As21,  As22,  As23,  As24],\\\n",
    "                  [0,   0,   As31,  As32,  As33,  As34],\\\n",
    "                  [0,   0,   0,     0,     0,     1]])\n",
    "    B = np.array([[b11, 0,     0,     0],\\\n",
    "                  [b21, 0,     0,     0],\\\n",
    "                  [0,   Bs11,  0,     0],\\\n",
    "                  [0,   Bs21,  Bs22,  0],\\\n",
    "                  [0,   Bs31,  Bs32,  Bs33],\\\n",
    "                  [0,   0,     0,   0]])\n",
    "    D = np.array([[1,   1,   As11,  As12,  As13,  As14],\\\n",
    "                  [1,   1,   As21,  As22,  As23,  As24],\\\n",
    "                  [1,   1,   As31,  As32,  As33,  As34]])\n",
    "    F = np.array([[b11, Bs11,  0,     0],\\\n",
    "                  [b11, Bs21,  Bs22,  0],\\\n",
    "                  [b11, Bs31,  Bs32,  Bs33]])\n",
    "\n",
    "           \n",
    "    μ0, Σ0, _, _ = init_kf(θ)\n",
    "    \n",
    "    _, _, ll = Kalman_Filter(obs_series, D, F, A, B, μ0, Σ0)\n",
    "\n",
    "    return -ll[0][0]\n",
    "\n",
    "    \n",
    "def callback(x):\n",
    "    fobj = ll(x)\n",
    "    θseries.append(x)\n",
    "    llseries.append(fobj)"
   ]
  },
  {
   "cell_type": "code",
   "execution_count": 7,
   "id": "488a5237",
   "metadata": {},
   "outputs": [
    {
     "data": {
      "text/plain": [
       "5251.530904344999"
      ]
     },
     "execution_count": 7,
     "metadata": {},
     "output_type": "execute_result"
    }
   ],
   "source": [
    "ll(start)"
   ]
  },
  {
   "cell_type": "code",
   "execution_count": 8,
   "id": "31ffcf75",
   "metadata": {},
   "outputs": [
    {
     "name": "stderr",
     "output_type": "stream",
     "text": [
      "/var/folders/5t/8szxl21n72g75qlj1hj_gqyw0000gr/T/ipykernel_35190/2757302421.py:18: RuntimeWarning: invalid value encountered in log\n",
      "  ll += (-0.5*obs_series.shape[0]*np.log(2*np.pi) - 0.5*np.log(np.linalg.det(Ω)) - 0.5*(obs[:,[t+1]] - D@μt).T@np.linalg.inv(Ω)@(obs[:,[t+1]] - D@μt))\n"
     ]
    }
   ],
   "source": [
    "stable = False\n",
    "n_trials = 0\n",
    "while stable == False:\n",
    "    start = np.concatenate((np.random.uniform(0,1,1), np.random.uniform(-10,10,3), np.random.uniform(-1,1,18)))\n",
    "    try:\n",
    "        μ0, Σ0, Ass, Σs = init_kf(start)\n",
    "        n_trials +=1\n",
    "        if (np.all(np.linalg.eigvals(Σ0)>=0)) & (np.all(abs(np.linalg.eigvals(Ass))<1) & (np.all(np.linalg.eigvals(Σs)>=0))):\n",
    "            stable = True\n",
    "        else:\n",
    "            stable = False\n",
    "    except: \n",
    "        n_trials +=1\n",
    "        stable = False  \n",
    "bnds = ((0,1),(-10,10),\\\n",
    "        (-10,10),(-10,10),\\\n",
    "        (-10,10),(-10,10),(-10,10),(-10,10),\\\n",
    "        (-10,10),(-10,10),(-10,10),(-10,10),\\\n",
    "        (-10,10),(-10,10),(-10,10),(-10,10),\\\n",
    "        (-10,10),(-10,10),(-10,10),(-10,10),(-10,10),(-10,10))\n",
    "θseries = []\n",
    "llseries = []\n",
    "\n",
    "θ_opt = sp.optimize.minimize(ll, start, method = 'L-BFGS-B', bounds = bnds, callback = callback, tol=1e-6)  \n"
   ]
  },
  {
   "cell_type": "code",
   "execution_count": 10,
   "id": "8192c5e3",
   "metadata": {},
   "outputs": [
    {
     "data": {
      "text/plain": [
       "      fun: nan\n",
       " hess_inv: <22x22 LbfgsInvHessProduct with dtype=float64>\n",
       "      jac: array([ 359.31625481,   38.12676846,   -5.20967617,   38.92441806,\n",
       "        -93.54434956, -137.49445323, -195.25762029,   35.89493627,\n",
       "       -602.57395641,  -44.17167928,  882.39434729, -502.72699102,\n",
       "       -426.46429178, -106.45890089,  418.55644002, -288.15304486,\n",
       "        113.84674969,  460.40779604, -369.11089679,  -82.67274965,\n",
       "       -303.78112131,   76.09633029])\n",
       "  message: 'ABNORMAL_TERMINATION_IN_LNSRCH'\n",
       "     nfev: 46\n",
       "      nit: 0\n",
       "     njev: 2\n",
       "   status: 2\n",
       "  success: False\n",
       "        x: array([ 0.34677982,  7.80572104, -9.15699652, -1.62397984, -0.49310688,\n",
       "       -0.28488034, -0.78734027,  0.78116494,  0.90998803,  0.03169389,\n",
       "        0.86930211, -0.82383239, -0.53699844, -0.77649852,  0.57905158,\n",
       "       -0.50207876,  0.3928136 , -0.17576604,  0.81885386, -0.58243038,\n",
       "       -0.09564083,  0.04261084])"
      ]
     },
     "execution_count": 10,
     "metadata": {},
     "output_type": "execute_result"
    }
   ],
   "source": [
    "θ_opt"
   ]
  },
  {
   "cell_type": "code",
   "execution_count": 11,
   "id": "62dd0d00",
   "metadata": {},
   "outputs": [
    {
     "name": "stderr",
     "output_type": "stream",
     "text": [
      "/var/folders/5t/8szxl21n72g75qlj1hj_gqyw0000gr/T/ipykernel_33509/2757302421.py:18: RuntimeWarning: invalid value encountered in log\n",
      "  ll += (-0.5*obs_series.shape[0]*np.log(2*np.pi) - 0.5*np.log(np.linalg.det(Ω)) - 0.5*(obs[:,[t+1]] - D@μt).T@np.linalg.inv(Ω)@(obs[:,[t+1]] - D@μt))\n",
      "/var/folders/5t/8szxl21n72g75qlj1hj_gqyw0000gr/T/ipykernel_33509/2757302421.py:15: RuntimeWarning: overflow encountered in matmul\n",
      "  state_Σ[:,:,t+1] = A@Σt@A.T + B@B.T - (A@Σt@D.T + B@F.T)@np.linalg.inv(D@Σt@D.T + F@F.T)@(D@Σt@A.T+F@B.T)\n",
      "/var/folders/5t/8szxl21n72g75qlj1hj_gqyw0000gr/T/ipykernel_33509/2757302421.py:13: RuntimeWarning: invalid value encountered in matmul\n",
      "  KΣt = (A@Σt@D.T + B@F.T)@np.linalg.inv(D@Σt@D.T+F@F.T)\n",
      "/var/folders/5t/8szxl21n72g75qlj1hj_gqyw0000gr/T/ipykernel_33509/2757302421.py:15: RuntimeWarning: invalid value encountered in matmul\n",
      "  state_Σ[:,:,t+1] = A@Σt@A.T + B@B.T - (A@Σt@D.T + B@F.T)@np.linalg.inv(D@Σt@D.T + F@F.T)@(D@Σt@A.T+F@B.T)\n",
      "/var/folders/5t/8szxl21n72g75qlj1hj_gqyw0000gr/T/ipykernel_33509/2757302421.py:13: RuntimeWarning: overflow encountered in matmul\n",
      "  KΣt = (A@Σt@D.T + B@F.T)@np.linalg.inv(D@Σt@D.T+F@F.T)\n",
      "/var/folders/5t/8szxl21n72g75qlj1hj_gqyw0000gr/T/ipykernel_33509/2757302421.py:15: RuntimeWarning: invalid value encountered in subtract\n",
      "  state_Σ[:,:,t+1] = A@Σt@A.T + B@B.T - (A@Σt@D.T + B@F.T)@np.linalg.inv(D@Σt@D.T + F@F.T)@(D@Σt@A.T+F@B.T)\n",
      "/var/folders/5t/8szxl21n72g75qlj1hj_gqyw0000gr/T/ipykernel_33509/2757302421.py:17: RuntimeWarning: overflow encountered in matmul\n",
      "  Ω = D@Σt@D.T + F@F.T\n",
      "/var/folders/5t/8szxl21n72g75qlj1hj_gqyw0000gr/T/ipykernel_33509/2757302421.py:14: RuntimeWarning: invalid value encountered in matmul\n",
      "  state_μ[:,[t+1]] = A@μt + KΣt@(obs[:,[t+1]] - D@μt)\n"
     ]
    }
   ],
   "source": [
    "θseries = []\n",
    "llseries = []\n",
    "bnds = ((-1,1),(-10,10),\\\n",
    "        (-10,10),(-10,10),\\\n",
    "        (-10,10),(-10,10),(-10,10),(-10,10),\\\n",
    "        (-10,10),(-10,10),(-10,10),(-10,10),\\\n",
    "        (-10,10),(-10,10),(-10,10),(-10,10),\\\n",
    "        (-10,10),(-10,10),(-10,10),(-10,10),(-10,10),(-10,10))\n",
    "try:\n",
    "    θ_opt = sp.optimize.minimize(ll, start, method = 'L-BFGS-B', bounds = None, callback = callback, tol=1e-6) \n",
    "except:\n",
    "    pass"
   ]
  },
  {
   "cell_type": "code",
   "execution_count": null,
   "id": "31a709f0",
   "metadata": {},
   "outputs": [],
   "source": [
    "θ_opt"
   ]
  },
  {
   "cell_type": "code",
   "execution_count": 9,
   "id": "08876689",
   "metadata": {},
   "outputs": [
    {
     "data": {
      "text/plain": [
       "[2751.041085322283, 2682.999493898286, 2348.5227566281387, 2225.253057587016]"
      ]
     },
     "execution_count": 9,
     "metadata": {},
     "output_type": "execute_result"
    }
   ],
   "source": [
    "llseries"
   ]
  },
  {
   "cell_type": "code",
   "execution_count": null,
   "id": "3dce7c21",
   "metadata": {},
   "outputs": [],
   "source": []
  }
 ],
 "metadata": {
  "kernelspec": {
   "display_name": "Python 3 (ipykernel)",
   "language": "python",
   "name": "python3"
  },
  "language_info": {
   "codemirror_mode": {
    "name": "ipython",
    "version": 3
   },
   "file_extension": ".py",
   "mimetype": "text/x-python",
   "name": "python",
   "nbconvert_exporter": "python",
   "pygments_lexer": "ipython3",
   "version": "3.9.12"
  }
 },
 "nbformat": 4,
 "nbformat_minor": 5
}
