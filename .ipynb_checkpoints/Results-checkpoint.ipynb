{
 "cells": [
  {
   "cell_type": "code",
   "execution_count": 28,
   "id": "6f744a15",
   "metadata": {},
   "outputs": [],
   "source": [
    "import numpy as np\n",
    "import scipy as sp\n",
    "import pandas as pd\n",
    "import matplotlib.pyplot as plt\n",
    "import seaborn as sns\n",
    "import os\n",
    "import pickle\n",
    "np.set_printoptions(suppress = True)\n",
    "# obs_series = np.genfromtxt('obs_series.csv', delimiter=',')\n",
    "obs_series = pd.read_csv('data.csv', delimiter=',')\n",
    "obs_series = np.array(obs_series.iloc[:,1:]).T"
   ]
  },
  {
   "cell_type": "code",
   "execution_count": 29,
   "id": "cee80dbb",
   "metadata": {},
   "outputs": [],
   "source": [
    "datadir = os.getcwd()\n",
    "onlyfiles = [f for f in os.listdir(datadir) if (os.path.isfile(os.path.join(datadir, f)))&(f[-3:]=='pkl')]\n",
    "file = []\n",
    "for i in onlyfiles:\n",
    "    with open(i, 'rb') as f:\n",
    "        temp = pickle.load(f)\n",
    "        file = file + temp\n",
    "θs = []\n",
    "for i in file:\n",
    "    try:\n",
    "        if np.isnan(i[0].fun) == False:\n",
    "            θs.append(i[0])\n",
    "    except:\n",
    "        pass"
   ]
  },
  {
   "cell_type": "code",
   "execution_count": 30,
   "id": "327b846a",
   "metadata": {},
   "outputs": [],
   "source": [
    "fun = pd.DataFrame([i.fun for i in θs])\n",
    "nit = pd.DataFrame([i.nit for i in θs])\n",
    "success = pd.DataFrame([i.success for i in θs])\n",
    "message = pd.DataFrame([i.message for i in θs])\n",
    "λ = pd.DataFrame([i.x[0] for i in θs])\n",
    "η = pd.DataFrame([i.x[1] for i in θs])\n",
    "b11 = pd.DataFrame([i.x[2] for i in θs])\n",
    "b21 = pd.DataFrame([i.x[3] for i in θs])\n",
    "stable = pd.DataFrame([np.max(np.linalg.eig(np.array([i.x[4:7],i.x[8:11],i.x[12:15]]))[0])<1 for i in θs])\n",
    "hess = pd.DataFrame([np.all(np.linalg.eigvals(i.hess_inv.todense()) >=0) for i in θs])"
   ]
  },
  {
   "cell_type": "code",
   "execution_count": 31,
   "id": "a260c0dd",
   "metadata": {},
   "outputs": [
    {
     "data": {
      "text/html": [
       "<div>\n",
       "<style scoped>\n",
       "    .dataframe tbody tr th:only-of-type {\n",
       "        vertical-align: middle;\n",
       "    }\n",
       "\n",
       "    .dataframe tbody tr th {\n",
       "        vertical-align: top;\n",
       "    }\n",
       "\n",
       "    .dataframe thead th {\n",
       "        text-align: right;\n",
       "    }\n",
       "</style>\n",
       "<table border=\"1\" class=\"dataframe\">\n",
       "  <thead>\n",
       "    <tr style=\"text-align: right;\">\n",
       "      <th></th>\n",
       "      <th>ll</th>\n",
       "      <th>nit</th>\n",
       "      <th>success</th>\n",
       "      <th>message</th>\n",
       "      <th>λ</th>\n",
       "      <th>η</th>\n",
       "      <th>b11</th>\n",
       "      <th>b21</th>\n",
       "      <th>stable</th>\n",
       "      <th>hess</th>\n",
       "    </tr>\n",
       "  </thead>\n",
       "  <tbody>\n",
       "    <tr>\n",
       "      <th>117</th>\n",
       "      <td>-2172.752165</td>\n",
       "      <td>501</td>\n",
       "      <td>True</td>\n",
       "      <td>b'CONVERGENCE: REL_REDUCTION_OF_F_&lt;=_FACTR*EPS...</td>\n",
       "      <td>0.846848</td>\n",
       "      <td>0.000726</td>\n",
       "      <td>0.004812</td>\n",
       "      <td>0.000901</td>\n",
       "      <td>True</td>\n",
       "      <td>True</td>\n",
       "    </tr>\n",
       "    <tr>\n",
       "      <th>152</th>\n",
       "      <td>-2159.312420</td>\n",
       "      <td>256</td>\n",
       "      <td>True</td>\n",
       "      <td>b'CONVERGENCE: REL_REDUCTION_OF_F_&lt;=_FACTR*EPS...</td>\n",
       "      <td>0.071135</td>\n",
       "      <td>0.004409</td>\n",
       "      <td>-0.000664</td>\n",
       "      <td>-0.005069</td>\n",
       "      <td>True</td>\n",
       "      <td>True</td>\n",
       "    </tr>\n",
       "    <tr>\n",
       "      <th>71</th>\n",
       "      <td>-497.916639</td>\n",
       "      <td>170</td>\n",
       "      <td>True</td>\n",
       "      <td>b'CONVERGENCE: REL_REDUCTION_OF_F_&lt;=_FACTR*EPS...</td>\n",
       "      <td>0.493421</td>\n",
       "      <td>0.001140</td>\n",
       "      <td>-0.029161</td>\n",
       "      <td>-0.008914</td>\n",
       "      <td>True</td>\n",
       "      <td>True</td>\n",
       "    </tr>\n",
       "    <tr>\n",
       "      <th>221</th>\n",
       "      <td>54.140373</td>\n",
       "      <td>112</td>\n",
       "      <td>True</td>\n",
       "      <td>b'CONVERGENCE: REL_REDUCTION_OF_F_&lt;=_FACTR*EPS...</td>\n",
       "      <td>0.260080</td>\n",
       "      <td>0.002162</td>\n",
       "      <td>0.013473</td>\n",
       "      <td>0.002017</td>\n",
       "      <td>True</td>\n",
       "      <td>True</td>\n",
       "    </tr>\n",
       "    <tr>\n",
       "      <th>194</th>\n",
       "      <td>729.563210</td>\n",
       "      <td>132</td>\n",
       "      <td>True</td>\n",
       "      <td>b'CONVERGENCE: REL_REDUCTION_OF_F_&lt;=_FACTR*EPS...</td>\n",
       "      <td>0.000000</td>\n",
       "      <td>-0.023715</td>\n",
       "      <td>1.223937</td>\n",
       "      <td>-2.654951</td>\n",
       "      <td>True</td>\n",
       "      <td>True</td>\n",
       "    </tr>\n",
       "    <tr>\n",
       "      <th>...</th>\n",
       "      <td>...</td>\n",
       "      <td>...</td>\n",
       "      <td>...</td>\n",
       "      <td>...</td>\n",
       "      <td>...</td>\n",
       "      <td>...</td>\n",
       "      <td>...</td>\n",
       "      <td>...</td>\n",
       "      <td>...</td>\n",
       "      <td>...</td>\n",
       "    </tr>\n",
       "    <tr>\n",
       "      <th>215</th>\n",
       "      <td>38339.878416</td>\n",
       "      <td>38</td>\n",
       "      <td>True</td>\n",
       "      <td>b'CONVERGENCE: REL_REDUCTION_OF_F_&lt;=_FACTR*EPS...</td>\n",
       "      <td>0.066440</td>\n",
       "      <td>-0.338834</td>\n",
       "      <td>-0.257317</td>\n",
       "      <td>0.472606</td>\n",
       "      <td>True</td>\n",
       "      <td>True</td>\n",
       "    </tr>\n",
       "    <tr>\n",
       "      <th>210</th>\n",
       "      <td>43026.040804</td>\n",
       "      <td>2</td>\n",
       "      <td>True</td>\n",
       "      <td>b'CONVERGENCE: REL_REDUCTION_OF_F_&lt;=_FACTR*EPS...</td>\n",
       "      <td>0.042386</td>\n",
       "      <td>-2.873878</td>\n",
       "      <td>2.087113</td>\n",
       "      <td>-2.160370</td>\n",
       "      <td>True</td>\n",
       "      <td>True</td>\n",
       "    </tr>\n",
       "    <tr>\n",
       "      <th>206</th>\n",
       "      <td>254434.224201</td>\n",
       "      <td>71</td>\n",
       "      <td>True</td>\n",
       "      <td>b'CONVERGENCE: REL_REDUCTION_OF_F_&lt;=_FACTR*EPS...</td>\n",
       "      <td>0.192805</td>\n",
       "      <td>0.008209</td>\n",
       "      <td>-0.107760</td>\n",
       "      <td>0.043434</td>\n",
       "      <td>True</td>\n",
       "      <td>True</td>\n",
       "    </tr>\n",
       "    <tr>\n",
       "      <th>27</th>\n",
       "      <td>292184.266889</td>\n",
       "      <td>7</td>\n",
       "      <td>True</td>\n",
       "      <td>b'CONVERGENCE: REL_REDUCTION_OF_F_&lt;=_FACTR*EPS...</td>\n",
       "      <td>0.000000</td>\n",
       "      <td>4.045719</td>\n",
       "      <td>-2.090091</td>\n",
       "      <td>2.008113</td>\n",
       "      <td>True</td>\n",
       "      <td>True</td>\n",
       "    </tr>\n",
       "    <tr>\n",
       "      <th>33</th>\n",
       "      <td>567892.555059</td>\n",
       "      <td>1</td>\n",
       "      <td>True</td>\n",
       "      <td>b'CONVERGENCE: REL_REDUCTION_OF_F_&lt;=_FACTR*EPS...</td>\n",
       "      <td>0.064098</td>\n",
       "      <td>-3.121899</td>\n",
       "      <td>2.555511</td>\n",
       "      <td>-2.426366</td>\n",
       "      <td>True</td>\n",
       "      <td>True</td>\n",
       "    </tr>\n",
       "  </tbody>\n",
       "</table>\n",
       "<p>82 rows × 10 columns</p>\n",
       "</div>"
      ],
      "text/plain": [
       "                ll  nit  success  \\\n",
       "117   -2172.752165  501     True   \n",
       "152   -2159.312420  256     True   \n",
       "71     -497.916639  170     True   \n",
       "221      54.140373  112     True   \n",
       "194     729.563210  132     True   \n",
       "..             ...  ...      ...   \n",
       "215   38339.878416   38     True   \n",
       "210   43026.040804    2     True   \n",
       "206  254434.224201   71     True   \n",
       "27   292184.266889    7     True   \n",
       "33   567892.555059    1     True   \n",
       "\n",
       "                                               message         λ         η  \\\n",
       "117  b'CONVERGENCE: REL_REDUCTION_OF_F_<=_FACTR*EPS...  0.846848  0.000726   \n",
       "152  b'CONVERGENCE: REL_REDUCTION_OF_F_<=_FACTR*EPS...  0.071135  0.004409   \n",
       "71   b'CONVERGENCE: REL_REDUCTION_OF_F_<=_FACTR*EPS...  0.493421  0.001140   \n",
       "221  b'CONVERGENCE: REL_REDUCTION_OF_F_<=_FACTR*EPS...  0.260080  0.002162   \n",
       "194  b'CONVERGENCE: REL_REDUCTION_OF_F_<=_FACTR*EPS...  0.000000 -0.023715   \n",
       "..                                                 ...       ...       ...   \n",
       "215  b'CONVERGENCE: REL_REDUCTION_OF_F_<=_FACTR*EPS...  0.066440 -0.338834   \n",
       "210  b'CONVERGENCE: REL_REDUCTION_OF_F_<=_FACTR*EPS...  0.042386 -2.873878   \n",
       "206  b'CONVERGENCE: REL_REDUCTION_OF_F_<=_FACTR*EPS...  0.192805  0.008209   \n",
       "27   b'CONVERGENCE: REL_REDUCTION_OF_F_<=_FACTR*EPS...  0.000000  4.045719   \n",
       "33   b'CONVERGENCE: REL_REDUCTION_OF_F_<=_FACTR*EPS...  0.064098 -3.121899   \n",
       "\n",
       "          b11       b21  stable  hess  \n",
       "117  0.004812  0.000901    True  True  \n",
       "152 -0.000664 -0.005069    True  True  \n",
       "71  -0.029161 -0.008914    True  True  \n",
       "221  0.013473  0.002017    True  True  \n",
       "194  1.223937 -2.654951    True  True  \n",
       "..        ...       ...     ...   ...  \n",
       "215 -0.257317  0.472606    True  True  \n",
       "210  2.087113 -2.160370    True  True  \n",
       "206 -0.107760  0.043434    True  True  \n",
       "27  -2.090091  2.008113    True  True  \n",
       "33   2.555511 -2.426366    True  True  \n",
       "\n",
       "[82 rows x 10 columns]"
      ]
     },
     "execution_count": 31,
     "metadata": {},
     "output_type": "execute_result"
    }
   ],
   "source": [
    "res = pd.concat([fun, nit, success, message, λ, η, b11, b21, stable, hess], axis = 1)\n",
    "res.columns = ['ll','nit','success','message','λ','η','b11','b21','stable','hess']\n",
    "res = res.loc[res['success']==True]\n",
    "res = res.loc[res['stable']==True]\n",
    "res = res.loc[res['hess']==True]\n",
    "res.sort_values(by = 'll',ascending = True)"
   ]
  },
  {
   "cell_type": "code",
   "execution_count": 32,
   "id": "53be064a",
   "metadata": {},
   "outputs": [
    {
     "data": {
      "text/plain": [
       "      fun: -2172.7521647777885\n",
       " hess_inv: <22x22 LbfgsInvHessProduct with dtype=float64>\n",
       "      jac: array([-15.57791612, -21.72596396,  11.3258011 , -36.93976396,\n",
       "        18.28811947,  54.76199475, 113.44041011,  -7.48223097,\n",
       "       -15.01898616, -59.07932099, -55.29400369,   8.02019718,\n",
       "        11.2703674 ,  47.47835191,   3.79559422,  -4.87666512,\n",
       "       -25.25744094,  -8.27903932,  26.5046765 ,   2.01825969,\n",
       "       -56.10254447,  13.35752131])\n",
       "  message: b'CONVERGENCE: REL_REDUCTION_OF_F_<=_FACTR*EPSMCH'\n",
       "     nfev: 13846\n",
       "      nit: 501\n",
       "     njev: 602\n",
       "   status: 0\n",
       "  success: True\n",
       "        x: array([ 0.84684789,  0.00072639,  0.00481248,  0.00090078,  0.34901237,\n",
       "        0.02989625,  0.01632365, -0.97648234, -0.6667833 ,  1.00839974,\n",
       "        0.01177662, -1.08905815, -0.15088734,  0.01750862,  0.99750442,\n",
       "       -0.22264211, -0.00081066, -0.0331321 , -0.00589932, -0.01047593,\n",
       "        0.03790748, -0.00968541])"
      ]
     },
     "execution_count": 32,
     "metadata": {},
     "output_type": "execute_result"
    }
   ],
   "source": [
    "θs[117]"
   ]
  },
  {
   "cell_type": "code",
   "execution_count": 33,
   "id": "80e4e495",
   "metadata": {},
   "outputs": [],
   "source": [
    "θ = θs[117].x\n",
    "\n",
    "sed = pd.read_csv('fmincon_x_sort.dat',header = None)\n",
    "η, λ, b11, b21, Bs11, Bs21, Bs31, As14, Bs22, Bs32, As24, As34, Bs33, As11, As21, As31, As12, As22, As32, As13, As23, As33,    = \\\n",
    "list(sed.iloc[0,:])\n",
    "\n",
    "θ = λ, η, b11, b21, As11, As12, As13, As14, As21, As22, As23, As24, As31, As32, As33, As34, Bs11, Bs21, Bs22, Bs31, Bs32, Bs33\n",
    "\n"
   ]
  },
  {
   "cell_type": "code",
   "execution_count": 34,
   "id": "eae54202",
   "metadata": {},
   "outputs": [],
   "source": [
    "def init_kf(θ):\n",
    "    \n",
    "    λ, η, b11, b21, As11, As12, As13, As14, As21, As22, As23, As24, As31, As32, As33, As34, Bs11, Bs21, Bs22, Bs31, Bs32, Bs33 = θ\n",
    "    ones = np.ones([3,1])\n",
    "    \n",
    "    Ass = np.array([[As11, As12, As13],\\\n",
    "                    [As21, As22, As23],\\\n",
    "                    [As31, As32, As33]])\n",
    "    Aso = np.array([[As14],\\\n",
    "                    [As24],\\\n",
    "                    [As34]])\n",
    "    Bs =  np.array([[Bs11, 0,    0],\\\n",
    "                    [Bs21, Bs22, 0],\\\n",
    "                    [Bs31, Bs32, Bs33]])\n",
    "    \n",
    "    μs = sp.linalg.solve(np.eye(3) - Ass, Aso) \n",
    "    Σs = sp.linalg.solve_discrete_lyapunov(Ass, Bs@Bs.T)\n",
    "    \n",
    "    β = sp.linalg.solve(np.hstack([Σs@np.array([[1,1],[0,-1],[-1,0]]), ones]).T, np.array([[0,0,1]]).T)                                     \n",
    "    γ1 = np.array([[1],[0],[0]]) - sp.linalg.inv(Σs)@ones/(ones.T@sp.linalg.inv(Σs)@ones)\n",
    "    γ2 = np.array([[0],[1],[0]]) - sp.linalg.inv(Σs)@ones/(ones.T@sp.linalg.inv(Σs)@ones)\n",
    "    γ3 = np.array([[0],[0],[1]]) - sp.linalg.inv(Σs)@ones/(ones.T@sp.linalg.inv(Σs)@ones)\n",
    "    Γ = np.hstack([γ1, γ2, γ3])\n",
    "    \n",
    "    Z01 = β.T@(obs_series[:,[0]] - μs)\n",
    "    Σz01 = 0\n",
    "    Z02 = η/(1-λ)\n",
    "    Σz02 = b21**2/(1-λ**2)\n",
    "    S0 = Γ.T@(obs_series[:,[0]] - μs) + μs\n",
    "    Σs0 = (1/(ones.T@np.linalg.inv(Σs)@ones))[0][0]\n",
    "    \n",
    "    μ0 = np.array([[Z01[0][0]],\\\n",
    "                   [Z02],\\\n",
    "                   [S0[0][0]],\\\n",
    "                   [S0[1][0]],\\\n",
    "                   [S0[2][0]],\\\n",
    "                   [1]])\n",
    "    Σ0 = np.array([[Σz01,0,    0,   0,   0,   0],\\\n",
    "                   [0,   Σz02, 0,   0,   0,   0],\\\n",
    "                   [0,   0,    Σs0, Σs0, Σs0, 0],\\\n",
    "                   [0,   0,    Σs0, Σs0, Σs0, 0],\\\n",
    "                   [0,   0,    Σs0, Σs0, Σs0, 0],\\\n",
    "                   [0,   0,    0,   0,   0,   0]])    \n",
    "    return μ0, Σ0, Ass, Σs"
   ]
  },
  {
   "cell_type": "code",
   "execution_count": 38,
   "id": "104fead2",
   "metadata": {},
   "outputs": [],
   "source": [
    "def Kalman_Filter(obs, D, F, A, B, μ0, Σ0):\n",
    "\n",
    "    state_μ = np.zeros([A.shape[1], obs.shape[1]])\n",
    "    state_μ[:,[0]] = μ0\n",
    "    state_Σ = np.zeros([A.shape[1], A.shape[1], obs.shape[1]])\n",
    "    state_Σ[:,:,0] = Σ0\n",
    "\n",
    "    ll = 0\n",
    "\n",
    "    for t in range(obs.shape[1]-1):\n",
    "        μt = state_μ[:,[t]]\n",
    "        Σt = state_Σ[:,:,t]\n",
    "        KΣt = (A@Σt@D.T + B@F.T)@np.linalg.inv(D@Σt@D.T+F@F.T)\n",
    "        state_μ[:,[t+1]] = A@μt + KΣt@(obs[:,[t+1]] - D@μt)\n",
    "        state_Σ[:,:,t+1] = A@Σt@A.T + B@B.T - (A@Σt@D.T + B@F.T)@np.linalg.inv(D@Σt@D.T + F@F.T)@(D@Σt@A.T+F@B.T)\n",
    "\n",
    "        Ω = D@Σt@D.T + F@F.T\n",
    "        ll += (-0.5*obs_series.shape[0]*np.log(2*np.pi) - 0.5*np.log(np.linalg.det(Ω)) \\\n",
    "               - 0.5*(obs[:,[t+1]] - D@μt).T@np.linalg.inv(Ω)@(obs[:,[t+1]] - D@μt))\n",
    "        print(ll)\n",
    "    return state_μ, state_Σ ,ll"
   ]
  },
  {
   "cell_type": "code",
   "execution_count": 39,
   "id": "a23a5b6b",
   "metadata": {
    "scrolled": false
   },
   "outputs": [
    {
     "name": "stdout",
     "output_type": "stream",
     "text": [
      "[[4.3964505]]\n",
      "[[11.12923899]]\n",
      "[[19.47783349]]\n",
      "[[25.75720603]]\n",
      "[[34.79035904]]\n",
      "[[39.91817772]]\n",
      "[[47.24450366]]\n",
      "[[48.01254929]]\n",
      "[[53.06834227]]\n",
      "[[59.97955371]]\n",
      "[[65.5208188]]\n",
      "[[48.3454457]]\n",
      "[[55.72567732]]\n",
      "[[62.3991316]]\n",
      "[[71.2948185]]\n",
      "[[77.69041378]]\n",
      "[[81.7561221]]\n",
      "[[90.04610613]]\n",
      "[[98.92691848]]\n",
      "[[105.60636273]]\n",
      "[[113.0676319]]\n",
      "[[120.55184634]]\n",
      "[[124.91086171]]\n",
      "[[131.71723425]]\n",
      "[[139.37071028]]\n",
      "[[146.30071831]]\n",
      "[[154.7798904]]\n",
      "[[161.61129422]]\n",
      "[[170.8591013]]\n",
      "[[179.85547883]]\n",
      "[[185.61447551]]\n",
      "[[194.62986612]]\n",
      "[[203.66869543]]\n",
      "[[212.92826513]]\n",
      "[[221.91979651]]\n",
      "[[230.8005483]]\n",
      "[[240.11790162]]\n",
      "[[249.28722053]]\n",
      "[[256.98651791]]\n",
      "[[263.14000494]]\n",
      "[[270.77373945]]\n",
      "[[277.70974994]]\n",
      "[[285.25560979]]\n",
      "[[293.99802444]]\n",
      "[[302.83309141]]\n",
      "[[310.37870163]]\n",
      "[[319.65853211]]\n",
      "[[327.49224938]]\n",
      "[[335.4763555]]\n",
      "[[341.60297821]]\n",
      "[[350.64361606]]\n",
      "[[359.91633993]]\n",
      "[[367.61135483]]\n",
      "[[375.37857842]]\n",
      "[[382.21273227]]\n",
      "[[391.44015992]]\n",
      "[[400.60075608]]\n",
      "[[409.86202899]]\n",
      "[[418.99691976]]\n",
      "[[427.55002483]]\n",
      "[[436.73230728]]\n",
      "[[445.10651265]]\n",
      "[[454.32747284]]\n",
      "[[462.36344009]]\n",
      "[[470.68183636]]\n",
      "[[479.32891196]]\n",
      "[[488.64920353]]\n",
      "[[496.451617]]\n",
      "[[505.66077547]]\n",
      "[[514.62481677]]\n",
      "[[519.04169354]]\n",
      "[[527.71170997]]\n",
      "[[535.82373183]]\n",
      "[[544.67266299]]\n",
      "[[553.36174643]]\n",
      "[[562.07249878]]\n",
      "[[571.25417877]]\n",
      "[[580.49222932]]\n",
      "[[588.68430377]]\n",
      "[[595.86382242]]\n",
      "[[604.44126844]]\n",
      "[[613.54208503]]\n",
      "[[622.54335238]]\n",
      "[[631.4783223]]\n",
      "[[640.51308142]]\n",
      "[[649.54293982]]\n",
      "[[657.60213143]]\n",
      "[[664.81465551]]\n",
      "[[673.28080749]]\n",
      "[[682.59922619]]\n",
      "[[690.93736369]]\n",
      "[[696.35736128]]\n",
      "[[705.18043033]]\n",
      "[[713.91802702]]\n",
      "[[722.51098059]]\n",
      "[[731.46755074]]\n",
      "[[739.20609366]]\n",
      "[[748.24028945]]\n",
      "[[755.32319892]]\n",
      "[[764.56438202]]\n",
      "[[772.1229272]]\n",
      "[[781.14059258]]\n",
      "[[788.29988511]]\n",
      "[[791.19633486]]\n",
      "[[798.71444706]]\n",
      "[[807.63008605]]\n",
      "[[816.36142861]]\n",
      "[[824.77931033]]\n",
      "[[831.60528659]]\n",
      "[[837.10084492]]\n",
      "[[846.14597631]]\n",
      "[[854.35432802]]\n",
      "[[863.3526252]]\n",
      "[[872.58704563]]\n",
      "[[881.25160415]]\n",
      "[[890.52571105]]\n",
      "[[897.0675618]]\n",
      "[[906.25871048]]\n",
      "[[915.06999992]]\n",
      "[[923.27575755]]\n",
      "[[930.47265346]]\n",
      "[[939.57799838]]\n",
      "[[948.78858444]]\n",
      "[[957.80996653]]\n",
      "[[966.47073141]]\n",
      "[[975.31589383]]\n",
      "[[983.51192403]]\n",
      "[[990.45367821]]\n",
      "[[990.94815244]]\n",
      "[[999.3600238]]\n",
      "[[1006.73480009]]\n",
      "[[1013.9309421]]\n",
      "[[1021.00290256]]\n",
      "[[1028.45106234]]\n",
      "[[1035.18749452]]\n",
      "[[1039.81440371]]\n",
      "[[1048.40175003]]\n",
      "[[1057.1592692]]\n",
      "[[1064.11142044]]\n",
      "[[1072.87862488]]\n",
      "[[1081.139626]]\n",
      "[[1089.63927224]]\n",
      "[[1098.57012886]]\n",
      "[[1102.58772744]]\n",
      "[[1111.46762882]]\n",
      "[[1119.84364672]]\n",
      "[[1128.98413946]]\n",
      "[[1137.05167257]]\n",
      "[[1146.18108055]]\n",
      "[[1155.2207414]]\n",
      "[[1163.45800718]]\n",
      "[[1171.98024367]]\n",
      "[[1180.88054579]]\n",
      "[[1190.21092187]]\n",
      "[[1199.03147277]]\n",
      "[[1208.06326157]]\n",
      "[[1216.3967436]]\n",
      "[[1225.28625325]]\n",
      "[[1234.57250663]]\n",
      "[[1243.52032403]]\n",
      "[[1252.89078289]]\n",
      "[[1261.63302913]]\n",
      "[[1270.91879815]]\n",
      "[[1279.47894062]]\n",
      "[[1287.38214903]]\n",
      "[[1296.37932152]]\n",
      "[[1304.35866404]]\n",
      "[[1311.44900165]]\n",
      "[[1320.4496546]]\n",
      "[[1328.46197111]]\n",
      "[[1334.3696745]]\n",
      "[[1341.26629958]]\n",
      "[[1350.04074985]]\n",
      "[[1359.16257178]]\n",
      "[[1368.12367859]]\n",
      "[[1374.50308522]]\n",
      "[[1383.88551349]]\n",
      "[[1392.74481981]]\n",
      "[[1401.86145296]]\n",
      "[[1410.58623655]]\n",
      "[[1419.60971803]]\n",
      "[[1428.44629097]]\n",
      "[[1436.26520461]]\n",
      "[[1445.48875289]]\n",
      "[[1454.80716755]]\n",
      "[[1464.07850479]]\n",
      "[[1473.36951663]]\n",
      "[[1482.64227686]]\n",
      "[[1491.95398732]]\n",
      "[[1500.90081077]]\n",
      "[[1509.91658669]]\n",
      "[[1518.79081148]]\n",
      "[[1528.08180469]]\n",
      "[[1537.24902085]]\n",
      "[[1546.5350957]]\n",
      "[[1555.68997063]]\n",
      "[[1565.02957242]]\n",
      "[[1573.44965317]]\n",
      "[[1582.45010331]]\n",
      "[[1590.29808059]]\n",
      "[[1598.68802488]]\n",
      "[[1607.81134698]]\n",
      "[[1616.95324262]]\n",
      "[[1625.44069106]]\n",
      "[[1634.39707307]]\n",
      "[[1643.54586493]]\n",
      "[[1651.51151445]]\n",
      "[[1657.47542456]]\n",
      "[[1665.50901215]]\n",
      "[[1674.67981083]]\n",
      "[[1683.78167959]]\n",
      "[[1691.95284318]]\n",
      "[[1700.20744992]]\n",
      "[[1708.75659177]]\n",
      "[[1717.98905777]]\n",
      "[[1725.48253641]]\n",
      "[[1734.73235987]]\n",
      "[[1743.70029907]]\n",
      "[[1752.602373]]\n",
      "[[1760.51808661]]\n",
      "[[1769.7314688]]\n",
      "[[1778.50883199]]\n",
      "[[1786.03247454]]\n",
      "[[1793.37619634]]\n",
      "[[1802.53768514]]\n",
      "[[1811.80401539]]\n",
      "[[1814.34714065]]\n",
      "[[1813.75803533]]\n",
      "[[1823.02733081]]\n",
      "[[1832.33745719]]\n",
      "[[1840.51189917]]\n",
      "[[1846.88251807]]\n",
      "[[1855.98581122]]\n",
      "[[1865.16303259]]\n",
      "[[1873.72373653]]\n",
      "[[1881.30162663]]\n",
      "[[1888.85195652]]\n",
      "[[1897.61667461]]\n",
      "[[1906.60738729]]\n",
      "[[1914.28187299]]\n",
      "[[1923.03964]]\n",
      "[[1930.08562777]]\n",
      "[[1928.12710573]]\n",
      "[[1928.82674041]]\n",
      "[[1927.15009236]]\n",
      "[[1928.61196654]]\n",
      "[[1934.1668341]]\n",
      "[[1942.73782045]]\n",
      "[[1952.09237242]]\n",
      "[[1959.84901086]]\n",
      "[[1968.63924247]]\n",
      "[[1975.59595054]]\n",
      "[[1983.90776607]]\n",
      "[[1992.58627951]]\n",
      "[[1998.94292461]]\n",
      "[[2007.24511199]]\n",
      "[[2016.16070656]]\n",
      "[[2025.12777384]]\n",
      "[[2018.40624021]]\n",
      "[[2000.25269822]]\n",
      "[[2008.91075525]]\n",
      "[[2018.06325808]]\n",
      "[[2026.90679134]]\n",
      "[[2035.27979722]]\n",
      "[[2041.94363572]]\n",
      "[[2050.65148583]]\n",
      "[[2059.29395965]]\n",
      "[[2068.18450486]]\n",
      "[[2077.0349448]]\n",
      "[[2086.36267243]]\n",
      "[[2094.98398347]]\n",
      "[[2104.01064759]]\n",
      "[[2113.29258041]]\n",
      "[[2122.45289324]]\n",
      "[[2131.7070498]]\n",
      "[[2140.93110873]]\n",
      "[[2149.98525183]]\n",
      "[[2159.17113252]]\n",
      "[[2168.46324388]]\n",
      "[[2176.76939758]]\n",
      "[[2185.97188596]]\n",
      "[[2195.15014169]]\n"
     ]
    }
   ],
   "source": [
    "λ, η, b11, b21, As11, As12, As13, As14, As21, As22, As23, As24, As31, As32, As33, As34, Bs11, Bs21, Bs22, Bs31, Bs32, Bs33 = θ\n",
    "\n",
    "A = np.array([[1,   1,   0,     0,     0,     0],\\\n",
    "              [0,   λ,   0,     0,     0,     η],\\\n",
    "              [0,   0,   As11,  As12,  As13,  As14],\\\n",
    "              [0,   0,   As21,  As22,  As23,  As24],\\\n",
    "              [0,   0,   As31,  As32,  As33,  As34],\\\n",
    "              [0,   0,   0,     0,     0,     1]])\n",
    "B = np.array([[b11, 0,     0,     0],\\\n",
    "              [b21, 0,     0,     0],\\\n",
    "              [0,   Bs11,  0,     0],\\\n",
    "              [0,   Bs21,  Bs22,  0],\\\n",
    "              [0,   Bs31,  Bs32,  Bs33],\\\n",
    "              [0,   0,     0,   0]])\n",
    "D = np.array([[1,   1,   As11,  As12,  As13,  As14],\\\n",
    "              [1,   1,   As21,  As22,  As23,  As24],\\\n",
    "              [1,   1,   As31,  As32,  As33,  As34]])\n",
    "F = np.array([[b11, Bs11,  0,     0],\\\n",
    "              [b11, Bs21,  Bs22,  0],\\\n",
    "              [b11, Bs31,  Bs32,  Bs33]])\n",
    "\n",
    "Ass = np.array([[As11, As12, As13],\\\n",
    "                [As21, As22, As23],\\\n",
    "                [As31, As32, As33]])\n",
    "Aso = np.array([[As14],\\\n",
    "                [As24],\\\n",
    "                [As34]])\n",
    "Bs =  np.array([[Bs11, 0,    0],\\\n",
    "                [Bs21, Bs22, 0],\\\n",
    "                [Bs31, Bs32, Bs33]])\n",
    " \n",
    "Azz = np.array([[1, 1],\\\n",
    "                [0, λ]])\n",
    "\n",
    "Azo = np.array([[0],\\\n",
    "                [η]])\n",
    "\n",
    "Bz = np.array([[b11],\\\n",
    "               [b21]])\n",
    "μ0, Σ0, _, _ = init_kf(θ)\n",
    "\n",
    "μ_state, Σ_state, ll = Kalman_Filter(obs_series, D, F, A, B, μ0, Σ0)"
   ]
  },
  {
   "cell_type": "code",
   "execution_count": 37,
   "id": "b7f36ec5",
   "metadata": {},
   "outputs": [
    {
     "data": {
      "text/plain": [
       "array([[2195.15014169]])"
      ]
     },
     "execution_count": 37,
     "metadata": {},
     "output_type": "execute_result"
    }
   ],
   "source": [
    "ll"
   ]
  },
  {
   "cell_type": "code",
   "execution_count": 10,
   "id": "7edae953",
   "metadata": {},
   "outputs": [],
   "source": [
    "μz_state = μ_state[0:2,:]\n",
    "μs_state = μ_state[2:5,:]\n",
    "D_sim = μz_state[0,:]+μs_state"
   ]
  },
  {
   "cell_type": "code",
   "execution_count": 11,
   "id": "eb9bd7f5",
   "metadata": {},
   "outputs": [
    {
     "data": {
      "text/plain": [
       "array([0.3843553 , 0.98156312, 0.98899811])"
      ]
     },
     "execution_count": 11,
     "metadata": {},
     "output_type": "execute_result"
    }
   ],
   "source": [
    "np.linalg.eigvals(Ass)"
   ]
  },
  {
   "cell_type": "code",
   "execution_count": 12,
   "id": "51e69e11",
   "metadata": {},
   "outputs": [
    {
     "data": {
      "text/plain": [
       "array([[-1.75017663],\n",
       "       [-3.00444866],\n",
       "       [-4.47444429]])"
      ]
     },
     "execution_count": 12,
     "metadata": {},
     "output_type": "execute_result"
    }
   ],
   "source": [
    "μs = sp.linalg.solve(np.eye(3) - Ass, Aso) \n",
    "μs"
   ]
  },
  {
   "cell_type": "code",
   "execution_count": 13,
   "id": "4126bdba",
   "metadata": {},
   "outputs": [
    {
     "data": {
      "text/plain": [
       "array([[ 0.00012002,  0.00109803,  0.00273244],\n",
       "       [ 0.00109803,  0.02777009, -0.00638201],\n",
       "       [ 0.00273244, -0.00638201,  0.12046834]])"
      ]
     },
     "execution_count": 13,
     "metadata": {},
     "output_type": "execute_result"
    }
   ],
   "source": [
    "Σs = sp.linalg.solve_discrete_lyapunov(Ass, Bs@Bs.T)\n",
    "Σs"
   ]
  },
  {
   "cell_type": "code",
   "execution_count": 14,
   "id": "aadcaa78",
   "metadata": {},
   "outputs": [
    {
     "data": {
      "text/plain": [
       "array([0.12096383, 0.00000173, 0.02739289])"
      ]
     },
     "execution_count": 14,
     "metadata": {},
     "output_type": "execute_result"
    }
   ],
   "source": [
    "np.linalg.eigvals(Σs)"
   ]
  },
  {
   "cell_type": "code",
   "execution_count": 15,
   "id": "0c14b415",
   "metadata": {},
   "outputs": [
    {
     "data": {
      "text/plain": [
       "array([[ 0.34901237,  0.02989625,  0.01632365],\n",
       "       [-0.6667833 ,  1.00839974,  0.01177662],\n",
       "       [-0.15088734,  0.01750862,  0.99750442]])"
      ]
     },
     "execution_count": 15,
     "metadata": {},
     "output_type": "execute_result"
    }
   ],
   "source": [
    "Ass"
   ]
  },
  {
   "cell_type": "code",
   "execution_count": 16,
   "id": "af96b14d",
   "metadata": {},
   "outputs": [
    {
     "data": {
      "text/plain": [
       "array([[-0.97648234],\n",
       "       [-1.08905815],\n",
       "       [-0.22264211]])"
      ]
     },
     "execution_count": 16,
     "metadata": {},
     "output_type": "execute_result"
    }
   ],
   "source": [
    "Aso"
   ]
  },
  {
   "cell_type": "code",
   "execution_count": 17,
   "id": "c6ac6556",
   "metadata": {},
   "outputs": [
    {
     "data": {
      "text/plain": [
       "array([[-0.00081066,  0.        ,  0.        ],\n",
       "       [-0.0331321 , -0.00589932,  0.        ],\n",
       "       [-0.01047593,  0.03790748, -0.00968541]])"
      ]
     },
     "execution_count": 17,
     "metadata": {},
     "output_type": "execute_result"
    }
   ],
   "source": [
    "Bs"
   ]
  },
  {
   "cell_type": "code",
   "execution_count": 18,
   "id": "f437f25a",
   "metadata": {},
   "outputs": [
    {
     "data": {
      "text/plain": [
       "array([[0.        ],\n",
       "       [0.00072639]])"
      ]
     },
     "execution_count": 18,
     "metadata": {},
     "output_type": "execute_result"
    }
   ],
   "source": [
    "Azo"
   ]
  },
  {
   "cell_type": "code",
   "execution_count": 19,
   "id": "af65ee3c",
   "metadata": {},
   "outputs": [
    {
     "data": {
      "text/plain": [
       "array([[1.        , 1.        ],\n",
       "       [0.        , 0.84684789]])"
      ]
     },
     "execution_count": 19,
     "metadata": {},
     "output_type": "execute_result"
    }
   ],
   "source": [
    "Azz"
   ]
  },
  {
   "cell_type": "code",
   "execution_count": 20,
   "id": "4c0bebcb",
   "metadata": {},
   "outputs": [
    {
     "data": {
      "text/plain": [
       "array([[0.00481248],\n",
       "       [0.00090078]])"
      ]
     },
     "execution_count": 20,
     "metadata": {},
     "output_type": "execute_result"
    }
   ],
   "source": [
    "Bz "
   ]
  },
  {
   "cell_type": "code",
   "execution_count": 21,
   "id": "42dcb7a8",
   "metadata": {},
   "outputs": [
    {
     "data": {
      "text/plain": [
       "array([[-2.72513088],\n",
       "       [ 0.00474291],\n",
       "       [-1.73624173],\n",
       "       [-2.52961579],\n",
       "       [-4.77541067],\n",
       "       [ 1.        ]])"
      ]
     },
     "execution_count": 21,
     "metadata": {},
     "output_type": "execute_result"
    }
   ],
   "source": [
    "μ_state[:,[0]]"
   ]
  },
  {
   "cell_type": "code",
   "execution_count": 22,
   "id": "078ac82a",
   "metadata": {
    "scrolled": true
   },
   "outputs": [
    {
     "data": {
      "text/plain": [
       "array([[-2.72513088],\n",
       "       [ 0.00474291],\n",
       "       [-1.73624173],\n",
       "       [-2.52961579],\n",
       "       [-4.77541067],\n",
       "       [ 1.        ]])"
      ]
     },
     "execution_count": 22,
     "metadata": {},
     "output_type": "execute_result"
    }
   ],
   "source": [
    "μ0"
   ]
  },
  {
   "cell_type": "code",
   "execution_count": 23,
   "id": "b7335cfd",
   "metadata": {},
   "outputs": [
    {
     "data": {
      "text/plain": [
       "array([[0.        , 0.        , 0.        , 0.        , 0.        ,\n",
       "        0.        ],\n",
       "       [0.        , 0.00000287, 0.        , 0.        , 0.        ,\n",
       "        0.        ],\n",
       "       [0.        , 0.        , 0.00000201, 0.00000201, 0.00000201,\n",
       "        0.        ],\n",
       "       [0.        , 0.        , 0.00000201, 0.00000201, 0.00000201,\n",
       "        0.        ],\n",
       "       [0.        , 0.        , 0.00000201, 0.00000201, 0.00000201,\n",
       "        0.        ],\n",
       "       [0.        , 0.        , 0.        , 0.        , 0.        ,\n",
       "        0.        ]])"
      ]
     },
     "execution_count": 23,
     "metadata": {},
     "output_type": "execute_result"
    }
   ],
   "source": [
    "Σ0"
   ]
  },
  {
   "cell_type": "code",
   "execution_count": 24,
   "id": "bb17406a",
   "metadata": {},
   "outputs": [
    {
     "data": {
      "text/plain": [
       "[<matplotlib.lines.Line2D at 0x7fbded4892b0>]"
      ]
     },
     "execution_count": 24,
     "metadata": {},
     "output_type": "execute_result"
    },
    {
     "data": {
      "image/png": "[encoded data removed]",
      "text/plain": [
       "<Figure size 432x288 with 1 Axes>"
      ]
     },
     "metadata": {
      "needs_background": "light"
     },
     "output_type": "display_data"
    }
   ],
   "source": [
    "plt.plot(D_sim[0,:])\n",
    "plt.plot(obs_series[0,:])"
   ]
  },
  {
   "cell_type": "code",
   "execution_count": 25,
   "id": "d467d6dc",
   "metadata": {},
   "outputs": [
    {
     "data": {
      "text/plain": [
       "[<matplotlib.lines.Line2D at 0x7fbdec119f40>]"
      ]
     },
     "execution_count": 25,
     "metadata": {},
     "output_type": "execute_result"
    },
    {
     "data": {
      "image/png": "[encoded data removed]",
      "text/plain": [
       "<Figure size 432x288 with 1 Axes>"
      ]
     },
     "metadata": {
      "needs_background": "light"
     },
     "output_type": "display_data"
    }
   ],
   "source": [
    "plt.plot(D_sim[1,:])\n",
    "plt.plot(obs_series[1,:])"
   ]
  },
  {
   "cell_type": "code",
   "execution_count": 26,
   "id": "c112b6fa",
   "metadata": {},
   "outputs": [
    {
     "data": {
      "text/plain": [
       "[<matplotlib.lines.Line2D at 0x7fbdecdbfd30>]"
      ]
     },
     "execution_count": 26,
     "metadata": {},
     "output_type": "execute_result"
    },
    {
     "data": {
      "image/png": "[encoded data removed]",
      "text/plain": [
       "<Figure size 432x288 with 1 Axes>"
      ]
     },
     "metadata": {
      "needs_background": "light"
     },
     "output_type": "display_data"
    }
   ],
   "source": [
    "plt.plot(D_sim[2,:])\n",
    "plt.plot(obs_series[2,:])"
   ]
  },
  {
   "cell_type": "code",
   "execution_count": null,
   "id": "69f52043",
   "metadata": {},
   "outputs": [],
   "source": []
  },
  {
   "cell_type": "code",
   "execution_count": null,
   "id": "897aa79b",
   "metadata": {},
   "outputs": [],
   "source": []
  }
 ],
 "metadata": {
  "kernelspec": {
   "display_name": "Python 3 (ipykernel)",
   "language": "python",
   "name": "python3"
  },
  "language_info": {
   "codemirror_mode": {
    "name": "ipython",
    "version": 3
   },
   "file_extension": ".py",
   "mimetype": "text/x-python",
   "name": "python",
   "nbconvert_exporter": "python",
   "pygments_lexer": "ipython3",
   "version": "3.9.12"
  }
 },
 "nbformat": 4,
 "nbformat_minor": 5
}
